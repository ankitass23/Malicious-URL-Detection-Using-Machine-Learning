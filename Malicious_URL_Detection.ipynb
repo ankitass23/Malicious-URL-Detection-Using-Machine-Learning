{
  "cells": [
    {
      "cell_type": "markdown",
      "metadata": {
        "id": "92rFf2JHlPV_"
      },
      "source": [
        "## Importing the libraries"
      ]
    },
    {
      "cell_type": "code",
      "execution_count": 1,
      "metadata": {
        "id": "-fBPAxoQlbsf"
      },
      "outputs": [],
      "source": [
        "import numpy as np\n",
        "import pandas as pd"
      ]
    },
    {
      "cell_type": "markdown",
      "metadata": {
        "id": "Rg-8FtDFldgU"
      },
      "source": [
        "## Importing the dataset"
      ]
    },
    {
      "cell_type": "code",
      "execution_count": 2,
      "metadata": {
        "id": "aWmq3YxhlltR"
      },
      "outputs": [],
      "source": [
        "dataset = pd.read_csv('malicious_url_dataset.csv')"
      ]
    },
    {
      "cell_type": "markdown",
      "metadata": {},
      "source": [
        "## Extracting Year from Date Columns"
      ]
    },
    {
      "cell_type": "code",
      "execution_count": 3,
      "metadata": {},
      "outputs": [],
      "source": [
        "dataset[['WHOIS_COUNTRY', 'WHOIS_STATEPRO', 'WHOIS_REGDATE', 'WHOIS_UPDATED_DATE']] = dataset[['WHOIS_COUNTRY', 'WHOIS_STATEPRO', 'WHOIS_REGDATE', 'WHOIS_UPDATED_DATE']].astype(\"string\")\n"
      ]
    },
    {
      "cell_type": "code",
      "execution_count": 4,
      "metadata": {},
      "outputs": [],
      "source": [
        "def extract_year(arg):\n",
        "    if(arg.item == 'None'):\n",
        "        return\n",
        "    else:\n",
        "        return arg.str.slice(6, 10)"
      ]
    },
    {
      "cell_type": "code",
      "execution_count": 5,
      "metadata": {},
      "outputs": [],
      "source": [
        "dataset = dataset.apply(lambda x: extract_year(x) if(x.name == 'WHOIS_REGDATE') else x)\n",
        "dataset = dataset.apply(lambda x: extract_year(x) if(x.name == 'WHOIS_UPDATED_DATE') else x)"
      ]
    },
    {
      "cell_type": "code",
      "execution_count": 6,
      "metadata": {},
      "outputs": [],
      "source": [
        "dataset = dataset.replace(r'', 'None')"
      ]
    },
    {
      "cell_type": "markdown",
      "metadata": {
        "id": "pz-r4OirkhU5"
      },
      "source": [
        "## Preview"
      ]
    },
    {
      "cell_type": "code",
      "execution_count": 7,
      "metadata": {
        "colab": {
          "base_uri": "https://localhost:8080/",
          "height": 206
        },
        "id": "niNBqSAxkjld",
        "outputId": "daee6392-e8dc-4076-b7bf-064c8d9e333f"
      },
      "outputs": [
        {
          "data": {
            "text/html": [
              "<div>\n",
              "<style scoped>\n",
              "    .dataframe tbody tr th:only-of-type {\n",
              "        vertical-align: middle;\n",
              "    }\n",
              "\n",
              "    .dataframe tbody tr th {\n",
              "        vertical-align: top;\n",
              "    }\n",
              "\n",
              "    .dataframe thead th {\n",
              "        text-align: right;\n",
              "    }\n",
              "</style>\n",
              "<table border=\"1\" class=\"dataframe\">\n",
              "  <thead>\n",
              "    <tr style=\"text-align: right;\">\n",
              "      <th></th>\n",
              "      <th>URL_LENGTH</th>\n",
              "      <th>NUMBER_SPECIAL_CHARACTERS</th>\n",
              "      <th>WHOIS_COUNTRY</th>\n",
              "      <th>WHOIS_STATEPRO</th>\n",
              "      <th>WHOIS_REGDATE</th>\n",
              "      <th>WHOIS_UPDATED_DATE</th>\n",
              "      <th>Type</th>\n",
              "    </tr>\n",
              "  </thead>\n",
              "  <tbody>\n",
              "    <tr>\n",
              "      <th>0</th>\n",
              "      <td>16</td>\n",
              "      <td>7</td>\n",
              "      <td>None</td>\n",
              "      <td>None</td>\n",
              "      <td>2015</td>\n",
              "      <td>None</td>\n",
              "      <td>1</td>\n",
              "    </tr>\n",
              "    <tr>\n",
              "      <th>1</th>\n",
              "      <td>16</td>\n",
              "      <td>6</td>\n",
              "      <td>None</td>\n",
              "      <td>None</td>\n",
              "      <td>None</td>\n",
              "      <td>None</td>\n",
              "      <td>0</td>\n",
              "    </tr>\n",
              "    <tr>\n",
              "      <th>2</th>\n",
              "      <td>16</td>\n",
              "      <td>6</td>\n",
              "      <td>None</td>\n",
              "      <td>None</td>\n",
              "      <td>None</td>\n",
              "      <td>None</td>\n",
              "      <td>0</td>\n",
              "    </tr>\n",
              "    <tr>\n",
              "      <th>3</th>\n",
              "      <td>17</td>\n",
              "      <td>6</td>\n",
              "      <td>US</td>\n",
              "      <td>AK</td>\n",
              "      <td>1997</td>\n",
              "      <td>2013</td>\n",
              "      <td>0</td>\n",
              "    </tr>\n",
              "    <tr>\n",
              "      <th>4</th>\n",
              "      <td>17</td>\n",
              "      <td>6</td>\n",
              "      <td>US</td>\n",
              "      <td>TX</td>\n",
              "      <td>1996</td>\n",
              "      <td>2017</td>\n",
              "      <td>0</td>\n",
              "    </tr>\n",
              "  </tbody>\n",
              "</table>\n",
              "</div>"
            ],
            "text/plain": [
              "   URL_LENGTH  NUMBER_SPECIAL_CHARACTERS WHOIS_COUNTRY WHOIS_STATEPRO  \\\n",
              "0          16                          7          None           None   \n",
              "1          16                          6          None           None   \n",
              "2          16                          6          None           None   \n",
              "3          17                          6            US             AK   \n",
              "4          17                          6            US             TX   \n",
              "\n",
              "  WHOIS_REGDATE WHOIS_UPDATED_DATE  Type  \n",
              "0          2015               None     1  \n",
              "1          None               None     0  \n",
              "2          None               None     0  \n",
              "3          1997               2013     0  \n",
              "4          1996               2017     0  "
            ]
          },
          "execution_count": 7,
          "metadata": {},
          "output_type": "execute_result"
        }
      ],
      "source": [
        "dataset.head()"
      ]
    },
    {
      "cell_type": "code",
      "execution_count": 8,
      "metadata": {
        "colab": {
          "base_uri": "https://localhost:8080/"
        },
        "id": "R33merjIl0nG",
        "outputId": "760b8768-b52b-49e0-f7c7-f8f8d4ab7360"
      },
      "outputs": [
        {
          "data": {
            "text/plain": [
              "(1768, 7)"
            ]
          },
          "execution_count": 8,
          "metadata": {},
          "output_type": "execute_result"
        }
      ],
      "source": [
        "dataset.shape"
      ]
    },
    {
      "cell_type": "code",
      "execution_count": 9,
      "metadata": {
        "colab": {
          "base_uri": "https://localhost:8080/"
        },
        "id": "btG5Ck2Ml-J9",
        "outputId": "242ef0e4-ed32-4c96-8f31-92f1c5f2666a"
      },
      "outputs": [
        {
          "data": {
            "text/plain": [
              "URL_LENGTH                    int64\n",
              "NUMBER_SPECIAL_CHARACTERS     int64\n",
              "WHOIS_COUNTRY                string\n",
              "WHOIS_STATEPRO               string\n",
              "WHOIS_REGDATE                string\n",
              "WHOIS_UPDATED_DATE           string\n",
              "Type                          int64\n",
              "dtype: object"
            ]
          },
          "execution_count": 9,
          "metadata": {},
          "output_type": "execute_result"
        }
      ],
      "source": [
        "dataset.dtypes"
      ]
    },
    {
      "cell_type": "code",
      "execution_count": 10,
      "metadata": {
        "colab": {
          "base_uri": "https://localhost:8080/"
        },
        "id": "YzR4cGWVmDQQ",
        "outputId": "20a3b3d3-ffec-42af-c1ae-fe504bb29a95"
      },
      "outputs": [
        {
          "data": {
            "text/plain": [
              "URL_LENGTH                   0\n",
              "NUMBER_SPECIAL_CHARACTERS    0\n",
              "WHOIS_COUNTRY                0\n",
              "WHOIS_STATEPRO               0\n",
              "WHOIS_REGDATE                0\n",
              "WHOIS_UPDATED_DATE           0\n",
              "Type                         0\n",
              "dtype: int64"
            ]
          },
          "execution_count": 10,
          "metadata": {},
          "output_type": "execute_result"
        }
      ],
      "source": [
        "dataset.isnull().sum()"
      ]
    },
    {
      "cell_type": "code",
      "execution_count": 11,
      "metadata": {
        "colab": {
          "base_uri": "https://localhost:8080/"
        },
        "id": "sECQssp5mNV8",
        "outputId": "47d5baf6-e676-4ec7-d1de-85feb432da9d"
      },
      "outputs": [
        {
          "data": {
            "text/plain": [
              "US                1103\n",
              "None               306\n",
              "CA                  84\n",
              "ES                  63\n",
              "AU                  35\n",
              "PA                  21\n",
              "GB                  19\n",
              "UK                  10\n",
              "IN                  10\n",
              "CN                  10\n",
              "JP                  10\n",
              "FR                   9\n",
              "CZ                   9\n",
              "CH                   6\n",
              "KR                   5\n",
              "NL                   5\n",
              "PH                   4\n",
              "ru                   4\n",
              "BS                   4\n",
              "AT                   4\n",
              "DE                   3\n",
              "us                   3\n",
              "KY                   3\n",
              "BE                   3\n",
              "SE                   3\n",
              "TR                   3\n",
              "SC                   2\n",
              "RU                   2\n",
              "KG                   2\n",
              "IL                   2\n",
              "HK                   2\n",
              "NO                   2\n",
              "UY                   2\n",
              "BR                   2\n",
              "Cyprus               2\n",
              "UG                   1\n",
              "LU                   1\n",
              "PK                   1\n",
              "United Kingdom       1\n",
              "LV                   1\n",
              "AE                   1\n",
              "IE                   1\n",
              "se                   1\n",
              "UA                   1\n",
              "IT                   1\n",
              "TH                   1\n",
              "Name: WHOIS_COUNTRY, dtype: Int64"
            ]
          },
          "execution_count": 11,
          "metadata": {},
          "output_type": "execute_result"
        }
      ],
      "source": [
        "dataset['WHOIS_COUNTRY'].value_counts()"
      ]
    },
    {
      "cell_type": "code",
      "execution_count": 12,
      "metadata": {
        "colab": {
          "base_uri": "https://localhost:8080/"
        },
        "id": "LNS6MHdcmeK0",
        "outputId": "d09c9394-3c06-46be-b3ad-9f11d1a4d13c"
      },
      "outputs": [
        {
          "data": {
            "text/plain": [
              "CA                372\n",
              "None              362\n",
              "NY                 75\n",
              "WA                 65\n",
              "Barcelona          62\n",
              "                 ... \n",
              "worcs               1\n",
              "RIX                 1\n",
              "Andhra Pradesh      1\n",
              "il                  1\n",
              "Maharashtra         1\n",
              "Name: WHOIS_STATEPRO, Length: 176, dtype: Int64"
            ]
          },
          "execution_count": 12,
          "metadata": {},
          "output_type": "execute_result"
        }
      ],
      "source": [
        "dataset['WHOIS_STATEPRO'].value_counts()"
      ]
    },
    {
      "cell_type": "code",
      "execution_count": 13,
      "metadata": {
        "colab": {
          "base_uri": "https://localhost:8080/"
        },
        "id": "U7Tpszfbqm2K",
        "outputId": "cd5b53ca-29b3-42e0-8a2d-3b0321610c35"
      },
      "outputs": [
        {
          "data": {
            "text/plain": [
              "2000    163\n",
              "None    130\n",
              "1996    120\n",
              "1995    117\n",
              "2001    108\n",
              "2008    107\n",
              "2005    107\n",
              "1999    106\n",
              "2003     97\n",
              "2006     93\n",
              "1997     90\n",
              "2002     84\n",
              "1994     78\n",
              "1998     72\n",
              "2004     72\n",
              "2007     61\n",
              "2009     43\n",
              "2010     33\n",
              "2016     26\n",
              "2011     12\n",
              "2015     10\n",
              "1993      9\n",
              "2014      9\n",
              "2013      8\n",
              "1990      5\n",
              "2017      4\n",
              "1992      3\n",
              "2012      1\n",
              "Name: WHOIS_REGDATE, dtype: Int64"
            ]
          },
          "execution_count": 13,
          "metadata": {},
          "output_type": "execute_result"
        }
      ],
      "source": [
        "dataset['WHOIS_REGDATE'].value_counts()"
      ]
    },
    {
      "cell_type": "markdown",
      "metadata": {},
      "source": [
        "## Encoding Categorical Data"
      ]
    },
    {
      "cell_type": "code",
      "execution_count": 14,
      "metadata": {},
      "outputs": [
        {
          "data": {
            "text/plain": [
              "OneHotEncoder()"
            ]
          },
          "execution_count": 14,
          "metadata": {},
          "output_type": "execute_result"
        }
      ],
      "source": [
        "from sklearn.preprocessing import OneHotEncoder\n",
        "ohe = OneHotEncoder()\n",
        "ohe.fit(dataset[['WHOIS_COUNTRY','WHOIS_STATEPRO','WHOIS_REGDATE', 'WHOIS_UPDATED_DATE']])"
      ]
    },
    {
      "cell_type": "code",
      "execution_count": 15,
      "metadata": {},
      "outputs": [],
      "source": [
        "encoded = pd.DataFrame.sparse.from_spmatrix(ohe.transform(dataset[['WHOIS_COUNTRY', 'WHOIS_STATEPRO', 'WHOIS_REGDATE', 'WHOIS_UPDATED_DATE']]))"
      ]
    },
    {
      "cell_type": "code",
      "execution_count": 16,
      "metadata": {},
      "outputs": [],
      "source": [
        "dataset.drop(['WHOIS_COUNTRY', 'WHOIS_STATEPRO', 'WHOIS_REGDATE', 'WHOIS_UPDATED_DATE'], axis='columns', inplace=True)"
      ]
    },
    {
      "cell_type": "code",
      "execution_count": 17,
      "metadata": {},
      "outputs": [],
      "source": [
        "dataset = pd.concat([encoded, dataset], axis=1)"
      ]
    },
    {
      "cell_type": "markdown",
      "metadata": {},
      "source": [
        "## Splitting the dataset into the Training set and Test set"
      ]
    },
    {
      "cell_type": "code",
      "execution_count": 18,
      "metadata": {},
      "outputs": [],
      "source": [
        "from sklearn.model_selection import train_test_split\n",
        "X = dataset.iloc[:, :-1].values\n",
        "y = dataset.iloc[:, -1].values\n",
        "X_train, X_test, y_train, y_test = train_test_split(X, y, test_size = 0.2, random_state = 0)"
      ]
    },
    {
      "cell_type": "markdown",
      "metadata": {},
      "source": [
        "## Feature Scaling"
      ]
    },
    {
      "cell_type": "code",
      "execution_count": 19,
      "metadata": {},
      "outputs": [],
      "source": [
        "# Scaling URL_LENGTH & NUMBER_SPECIAL_CHARACTERS\n",
        "\n",
        "from sklearn.preprocessing import StandardScaler\n",
        "# Scaling X_train\n",
        "X_train_features = X_train[:, -2:]\n",
        "\n",
        "scaler = StandardScaler().fit(X_train_features)\n",
        "X_train_features = scaler.transform(X_train_features)\n",
        "\n",
        "X_train[:, -2:] = X_train_features\n",
        "\n",
        "# Scaling X_test\n",
        "X_test_features = X_test[:, -2:]\n",
        "\n",
        "scaler = StandardScaler().fit(X_test_features)\n",
        "X_test_features = scaler.transform(X_test_features)\n",
        "\n",
        "X_test[:, -2:] = X_test_features"
      ]
    },
    {
      "cell_type": "markdown",
      "metadata": {},
      "source": [
        "## Training KNN Model"
      ]
    },
    {
      "cell_type": "code",
      "execution_count": 39,
      "metadata": {},
      "outputs": [
        {
          "data": {
            "text/plain": [
              "KNeighborsClassifier(n_neighbors=4)"
            ]
          },
          "execution_count": 39,
          "metadata": {},
          "output_type": "execute_result"
        }
      ],
      "source": [
        "from sklearn.neighbors import KNeighborsClassifier\n",
        "classifier = KNeighborsClassifier(n_neighbors = 4, metric = 'minkowski', p = 2)\n",
        "classifier.fit(X_train, y_train)"
      ]
    },
    {
      "cell_type": "markdown",
      "metadata": {},
      "source": [
        "## Confusion Matrix"
      ]
    },
    {
      "cell_type": "code",
      "execution_count": 40,
      "metadata": {},
      "outputs": [],
      "source": [
        "y_pred = classifier.predict(X_test)"
      ]
    },
    {
      "cell_type": "code",
      "execution_count": 41,
      "metadata": {},
      "outputs": [
        {
          "name": "stdout",
          "output_type": "stream",
          "text": [
            "[[305   6]\n",
            " [ 15  28]]\n"
          ]
        },
        {
          "data": {
            "text/plain": [
              "0.940677966101695"
            ]
          },
          "execution_count": 41,
          "metadata": {},
          "output_type": "execute_result"
        }
      ],
      "source": [
        "from sklearn.metrics import confusion_matrix, accuracy_score\n",
        "cm = confusion_matrix(y_test, y_pred)\n",
        "print(cm)\n",
        "accuracy_score(y_test, y_pred)"
      ]
    }
  ],
  "metadata": {
    "colab": {
      "collapsed_sections": [],
      "name": "Malicious URL Detection.ipynb",
      "provenance": []
    },
    "interpreter": {
      "hash": "16e6d4416837aa69ac450a97991d2e9bdda02c348f23ce30b96dd812591fc704"
    },
    "kernelspec": {
      "display_name": "Python 3.9.1 64-bit",
      "name": "python3"
    },
    "language_info": {
      "codemirror_mode": {
        "name": "ipython",
        "version": 3
      },
      "file_extension": ".py",
      "mimetype": "text/x-python",
      "name": "python",
      "nbconvert_exporter": "python",
      "pygments_lexer": "ipython3",
      "version": "3.9.1"
    }
  },
  "nbformat": 4,
  "nbformat_minor": 2
}
